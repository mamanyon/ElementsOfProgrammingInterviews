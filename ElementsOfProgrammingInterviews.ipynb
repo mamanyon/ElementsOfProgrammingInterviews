{
  "nbformat": 4,
  "nbformat_minor": 0,
  "metadata": {
    "colab": {
      "provenance": [],
      "authorship_tag": "ABX9TyPbp5gNc2FISfseiy4IR00V",
      "include_colab_link": true
    },
    "kernelspec": {
      "name": "python3",
      "display_name": "Python 3"
    },
    "language_info": {
      "name": "python"
    }
  },
  "cells": [
    {
      "cell_type": "markdown",
      "metadata": {
        "id": "view-in-github",
        "colab_type": "text"
      },
      "source": [
        "<a href=\"https://colab.research.google.com/github/mamanyon/ElementsOfProgrammingInterviews/blob/main/ElementsOfProgrammingInterviews.ipynb\" target=\"_parent\"><img src=\"https://colab.research.google.com/assets/colab-badge.svg\" alt=\"Open In Colab\"/></a>"
      ]
    },
    {
      "cell_type": "markdown",
      "source": [
        "chapter 4- Primitive Types"
      ],
      "metadata": {
        "id": "XEswpvJkQhAL"
      }
    },
    {
      "cell_type": "code",
      "source": [
        "#4.3 \n",
        "def reverse_bit(x):\n",
        "    return (str(x)[::-1])\n",
        "\n",
        "\n",
        "def reverse_bit2(num):\n",
        "    reversed_num = 0\n",
        "\n",
        "    while num != 0:\n",
        "        digit = num % 10\n",
        "        reversed_num = reversed_num * 10 + digit\n",
        "        num //= 10\n",
        "\n",
        "    return str(reversed_num)\n",
        "#4.8 \n",
        "\n",
        "def reverse_num(x) :\n",
        "  result, x_remaining = 0, abs(x)\n",
        "  while x_remaining:\n",
        "    result = result * 10 + x_remaining % 10\n",
        "    x_remaining //= 10\n",
        "  return -result if x < 0 else result\n",
        "\n",
        "print(reverse_bit(1110000000000001))\n",
        "print(reverse_bit2(1010101011110001))\n",
        "print(reverse_num(564666565))\n",
        "print(reverse_num(-21266565))"
      ],
      "metadata": {
        "colab": {
          "base_uri": "https://localhost:8080/"
        },
        "id": "9ec4K1fcQ12W",
        "outputId": "3efbca45-faa9-444e-e47d-79f536e9361d"
      },
      "execution_count": 11,
      "outputs": [
        {
          "output_type": "stream",
          "name": "stdout",
          "text": [
            "1000000000000111\n",
            "1000111101010101\n",
            "565666465\n",
            "-56566212\n"
          ]
        }
      ]
    },
    {
      "cell_type": "markdown",
      "source": [
        "Chapter 5 - Arrays\n",
        "\n",
        "Your input is an array of integers, and you have to reorder its entries so that the even entries appear first.\n",
        "\n",
        "You are required to solve it **without allocating additional storage**."
      ],
      "metadata": {
        "id": "ql6xw52XoYMf"
      }
    },
    {
      "cell_type": "code",
      "source": [
        "#bootcamp ex. in this chapter:\n",
        "def even_odd(nums):\n",
        "  left = 0 \n",
        "  right = len(nums)-1\n",
        "  while left<right:\n",
        "    if nums[left]%2==0: #is even\n",
        "      left+=1\n",
        "    else:\n",
        "      nums[left], nums[right]=nums[right], nums[left]\n",
        "      right-=1\n",
        "  return nums\n",
        "\n",
        "array = [1,7,5,4,6,79,9,2,3]\n",
        "print(even_odd(array))\n",
        "#the time complexity is O(n)."
      ],
      "metadata": {
        "colab": {
          "base_uri": "https://localhost:8080/"
        },
        "id": "KgiiFOHpRySQ",
        "outputId": "dcd9c3f4-43ca-4c12-b071-e6b99d9d999f"
      },
      "execution_count": 22,
      "outputs": [
        {
          "output_type": "stream",
          "name": "stdout",
          "text": [
            "[2, 6, 4, 5, 79, 9, 7, 3, 1]\n"
          ]
        }
      ]
    },
    {
      "cell_type": "markdown",
      "source": [
        "**Some tips for array questions**\n",
        "\n",
        "Array problems often have simple brute.force solutions that use O(n) space, but there are subtler solutions that use the array itself to reduce space complexity to O(1).\n",
        "\n",
        "Filling an array from the front is slow, so see if it's possible to write values from the back Instead of deleting an entry (which requires moving all entries to its left), consider overwriting it.\n",
        "\n",
        "When dealing with integers encoded by an array consider processing the digits from the back of the array. Altemately, reverse the array so the least-significant digit is the first entry.\n",
        "\n",
        "Be comfortable with writing code that operates on subarrays\n",
        "It's incredibly easy to make off-by-l errors when operating on arrays-reading past the last element of an array is a comrnon error which has catastrophic consequences.\n",
        "\n",
        "Don't worry about preserving the integrity of the array (sortedness, keeping equal entries together, etc.) until it is time to return.\n",
        "\n",
        "An array can serve as a good data structure when you know the distribution of the elements in advance. For example, a Boolean array of length W is a good choice for representing a subset of {0,'1.,. .. ,W - 1}. (When using a Boolean array to represent a subset of {1.,2,3,.. . ,n}, allocate\n",
        "anarray of size n+1 to simplify indexing) .\n",
        "\n",
        "when operating on 2D arrays, use parallel logic for rows and for columns\n",
        "Sometimes it's easier to simulate the specification, than to analytically solve for the result. For example, rather than writing a formula for the l-th entry in the spiral order for an n x n matrix, just compute the output from the beginning."
      ],
      "metadata": {
        "id": "Q1Bbe-skqTIj"
      }
    },
    {
      "cell_type": "code",
      "source": [],
      "metadata": {
        "id": "alnGJaf1oVmC"
      },
      "execution_count": null,
      "outputs": []
    },
    {
      "cell_type": "markdown",
      "source": [
        "5.2- Write a program which takes as input an array of digits encoding a nonnegative decimal integer D and updates the array to represent the integer D + 1.\n",
        "\n",
        "For example, if the input is (7,2,9) then you should update the array to (7,3,0)"
      ],
      "metadata": {
        "id": "SW3RHcvruYq9"
      }
    },
    {
      "cell_type": "code",
      "source": [
        "#5.2 \n",
        "def allnine(arr):\n",
        "  for num in arr:\n",
        "    if num != 9:\n",
        "      return False\n",
        "  return True\n",
        "\n",
        "def increment(arr):\n",
        "  right = len(arr)-1\n",
        "  if allnine(arr):\n",
        "    return [1]+[0]*(len(arr))\n",
        "  if arr[right] != 9:\n",
        "    return arr[:right]+[arr[right]+1]\n",
        "  else:\n",
        "    while arr[right] == 9:\n",
        "      arr[right]=0\n",
        "      right-=1\n",
        "    arr[right]+=1\n",
        "    return arr\n",
        "arr = [9,9,9,9,9]\n",
        "arr2 = [1,2,3,4]\n",
        "arr3 = [1,9,9]\n",
        "print(increment(arr))\n",
        "print(increment(arr2))\n",
        "print(increment(arr3))"
      ],
      "metadata": {
        "colab": {
          "base_uri": "https://localhost:8080/"
        },
        "id": "VAgjR6ghueFI",
        "outputId": "9bed6471-6a30-4c71-fe84-4fff2ae04912"
      },
      "execution_count": 31,
      "outputs": [
        {
          "output_type": "stream",
          "name": "stdout",
          "text": [
            "[1, 0, 0, 0, 0, 0]\n",
            "[1, 2, 3, 5]\n",
            "[2, 0, 0]\n"
          ]
        }
      ]
    },
    {
      "cell_type": "code",
      "source": [],
      "metadata": {
        "id": "XnCAs7cJwk27"
      },
      "execution_count": null,
      "outputs": []
    }
  ]
}