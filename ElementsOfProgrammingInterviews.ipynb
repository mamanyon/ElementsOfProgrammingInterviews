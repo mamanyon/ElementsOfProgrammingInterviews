{
  "nbformat": 4,
  "nbformat_minor": 0,
  "metadata": {
    "colab": {
      "provenance": [],
      "authorship_tag": "ABX9TyNwUCtaJMJZqDbF1iHH+iYx",
      "include_colab_link": true
    },
    "kernelspec": {
      "name": "python3",
      "display_name": "Python 3"
    },
    "language_info": {
      "name": "python"
    }
  },
  "cells": [
    {
      "cell_type": "markdown",
      "metadata": {
        "id": "view-in-github",
        "colab_type": "text"
      },
      "source": [
        "<a href=\"https://colab.research.google.com/github/mamanyon/ElementsOfProgrammingInterviews/blob/main/ElementsOfProgrammingInterviews.ipynb\" target=\"_parent\"><img src=\"https://colab.research.google.com/assets/colab-badge.svg\" alt=\"Open In Colab\"/></a>"
      ]
    },
    {
      "cell_type": "markdown",
      "source": [
        "chapter 4- Primitive Types"
      ],
      "metadata": {
        "id": "XEswpvJkQhAL"
      }
    },
    {
      "cell_type": "markdown",
      "source": [
        "Write a program that takes a 64-bit unsigned integer and retums the 64-bit unsigned integer consisting of the bits of the input in reverse order. For example, if the input is (1110000000000001), the\n",
        "output should be (1000000000000111)."
      ],
      "metadata": {
        "id": "q7hKJSNWRC1b"
      }
    },
    {
      "cell_type": "code",
      "source": [
        "#4.3 \n",
        "def reverse_bit(x):\n",
        "    return (str(x)[::-1])\n",
        "\n",
        "\n",
        "def reverse_bit2(num):\n",
        "    reversed_num = 0\n",
        "\n",
        "    while num != 0:\n",
        "        digit = num % 10\n",
        "        reversed_num = reversed_num * 10 + digit\n",
        "        num //= 10\n",
        "\n",
        "    return str(reversed_num)\n",
        "\n",
        "print(reverse_bit(1110000000000001))\n",
        "print(reverse_bit2(1010101011110001))"
      ],
      "metadata": {
        "colab": {
          "base_uri": "https://localhost:8080/"
        },
        "id": "9ec4K1fcQ12W",
        "outputId": "83cc72dc-9716-4f4e-f0d6-18b7f88eacde"
      },
      "execution_count": 10,
      "outputs": [
        {
          "output_type": "stream",
          "name": "stdout",
          "text": [
            "1000000000000111\n",
            "1000111101010101\n"
          ]
        }
      ]
    },
    {
      "cell_type": "code",
      "source": [],
      "metadata": {
        "id": "KgiiFOHpRySQ"
      },
      "execution_count": null,
      "outputs": []
    }
  ]
}